{
 "cells": [
  {
   "cell_type": "markdown",
   "metadata": {},
   "source": [
    "# QGS model: Example of DiffEqPy usage"
   ]
  },
  {
   "cell_type": "markdown",
   "metadata": {},
   "source": [
    "## Preamble"
   ]
  },
  {
   "cell_type": "markdown",
   "metadata": {},
   "source": [
    "This notebook shows how to use the [DiffEqPy](https://github.com/SciML/diffeqpy) package to integrate the qgs model and compare with the qgs Runge-Kutta integrator."
   ]
  },
  {
   "cell_type": "markdown",
   "metadata": {},
   "source": [
    "**You must finish the install of DiffEqPy manually before running this notebook!**\n",
    "\n",
    "The DiffEqPy package first installation step is done by Anaconda in the qgs environment but then you must install [Julia](https://julialang.org/downloads/) and follow the final manual installation instruction found in the link above.\n",
    "\n",
    "These can be summed up as opening a terminal and doing:\n",
    "```\n",
    "conda activate qgs\n",
    "python\n",
    "```\n",
    "and then inside the Python command line interface do:\n",
    "\n",
    "```\n",
    ">>> import diffeqpy\n",
    ">>> diffeqpy.install()\n",
    "```\n",
    "which will then finalize the installation."
   ]
  },
  {
   "cell_type": "markdown",
   "metadata": {},
   "source": [
    "## Reinhold and Pierrehumbert 1982 model version"
   ]
  },
  {
   "cell_type": "markdown",
   "metadata": {},
   "source": [
    "This notebook use the model version with a simple 2-layer channel QG atmosphere truncated at wavenumber 2 on a beta-plane with a simple orography (a montain and a valley). \n",
    "\n",
    "More detail can be found in the articles:\n",
    "* Reinhold, B. B., & Pierrehumbert, R. T. (1982). *Dynamics of weather regimes: Quasi-stationary waves and blocking*. Monthly Weather Review, **110** (9), 1105-1145. [doi:10.1175/1520-0493(1982)110%3C1105:DOWRQS%3E2.0.CO;2](https://doi.org/10.1175/1520-0493(1982)110%3C1105:DOWRQS%3E2.0.CO;2)\n",
    "* Cehelsky, P., & Tung, K. K. (1987). *Theories of multiple equilibria and weather regimes—A critical reexamination. Part II: Baroclinic two-layer models*. Journal of the atmospheric sciences, **44** (21), 3282-3303. [doi:10.1175/1520-0469(1987)044%3C3282%3ATOMEAW%3E2.0.CO%3B2](https://doi.org/10.1175/1520-0469(1987)044%3C3282%3ATOMEAW%3E2.0.CO%3B2)\n",
    "\n",
    "or in the documentation and on [readthedocs](https://qgs.readthedocs.io/en/latest/files/model/oro_model.html)."
   ]
  },
  {
   "cell_type": "markdown",
   "metadata": {},
   "source": [
    "## Modules import"
   ]
  },
  {
   "cell_type": "markdown",
   "metadata": {},
   "source": [
    "First, setting the path and loading of some modules"
   ]
  },
  {
   "cell_type": "code",
   "execution_count": 1,
   "metadata": {},
   "outputs": [],
   "source": [
    "import sys, os"
   ]
  },
  {
   "cell_type": "code",
   "execution_count": 2,
   "metadata": {},
   "outputs": [],
   "source": [
    "sys.path.extend([os.path.abspath('../')])"
   ]
  },
  {
   "cell_type": "code",
   "execution_count": 3,
   "metadata": {},
   "outputs": [],
   "source": [
    "import numpy as np\n",
    "import matplotlib.pyplot as plt\n",
    "from mpl_toolkits.mplot3d import Axes3D"
   ]
  },
  {
   "cell_type": "markdown",
   "metadata": {},
   "source": [
    "Initializing the random number generator (for reproducibility). -- Disable if needed."
   ]
  },
  {
   "cell_type": "code",
   "execution_count": 4,
   "metadata": {},
   "outputs": [],
   "source": [
    "np.random.seed(210217)"
   ]
  },
  {
   "cell_type": "markdown",
   "metadata": {},
   "source": [
    "Importing the model's modules"
   ]
  },
  {
   "cell_type": "code",
   "execution_count": 5,
   "metadata": {},
   "outputs": [],
   "source": [
    "from qgs.params.params import QgParams\n",
    "from qgs.integrators.integrator import RungeKuttaIntegrator\n",
    "from qgs.functions.tendencies import create_tendencies\n",
    "from qgs.plotting.util import std_plot"
   ]
  },
  {
   "cell_type": "markdown",
   "metadata": {},
   "source": [
    "Importing Julia DifferentialEquations.jl package"
   ]
  },
  {
   "cell_type": "code",
   "execution_count": 6,
   "metadata": {},
   "outputs": [
    {
     "ename": "FileNotFoundError",
     "evalue": "[Errno 2] No such file or directory: 'julia'",
     "output_type": "error",
     "traceback": [
      "\u001b[0;31m---------------------------------------------------------------------------\u001b[0m",
      "\u001b[0;31mFileNotFoundError\u001b[0m                         Traceback (most recent call last)",
      "\u001b[1;32m/home/scratch01/gmiloshe/qgs/notebooks/diffeq_test.ipynb Cell 17\u001b[0m in \u001b[0;36m<cell line: 2>\u001b[0;34m()\u001b[0m\n\u001b[1;32m      <a href='vscode-notebook-cell://ssh-remote%2Bobelix/home/scratch01/gmiloshe/qgs/notebooks/diffeq_test.ipynb#X22sdnNjb2RlLXJlbW90ZQ%3D%3D?line=0'>1</a>\u001b[0m \u001b[39mfrom\u001b[39;00m \u001b[39mjulia\u001b[39;00m\u001b[39m.\u001b[39;00m\u001b[39mapi\u001b[39;00m \u001b[39mimport\u001b[39;00m Julia\n\u001b[0;32m----> <a href='vscode-notebook-cell://ssh-remote%2Bobelix/home/scratch01/gmiloshe/qgs/notebooks/diffeq_test.ipynb#X22sdnNjb2RlLXJlbW90ZQ%3D%3D?line=1'>2</a>\u001b[0m jl \u001b[39m=\u001b[39m Julia(compiled_modules\u001b[39m=\u001b[39;49m\u001b[39mFalse\u001b[39;49;00m)\n\u001b[1;32m      <a href='vscode-notebook-cell://ssh-remote%2Bobelix/home/scratch01/gmiloshe/qgs/notebooks/diffeq_test.ipynb#X22sdnNjb2RlLXJlbW90ZQ%3D%3D?line=2'>3</a>\u001b[0m \u001b[39mfrom\u001b[39;00m \u001b[39mdiffeqpy\u001b[39;00m \u001b[39mimport\u001b[39;00m de\n",
      "File \u001b[0;32m~/.conda/envs/qgs/lib/python3.8/site-packages/julia/core.py:468\u001b[0m, in \u001b[0;36mJulia.__init__\u001b[0;34m(self, init_julia, jl_init_path, runtime, jl_runtime_path, debug, **julia_options)\u001b[0m\n\u001b[1;32m    466\u001b[0m     \u001b[39mself\u001b[39m\u001b[39m.\u001b[39mapi \u001b[39m=\u001b[39m get_libjulia()\n\u001b[1;32m    467\u001b[0m \u001b[39melif\u001b[39;00m init_julia:\n\u001b[0;32m--> 468\u001b[0m     jlinfo \u001b[39m=\u001b[39m JuliaInfo\u001b[39m.\u001b[39;49mload(runtime)\n\u001b[1;32m    469\u001b[0m     \u001b[39mif\u001b[39;00m jlinfo\u001b[39m.\u001b[39mversion_info \u001b[39m<\u001b[39m (\u001b[39m0\u001b[39m, \u001b[39m7\u001b[39m):\n\u001b[1;32m    470\u001b[0m         \u001b[39mraise\u001b[39;00m \u001b[39mRuntimeError\u001b[39;00m(\u001b[39m\"\u001b[39m\u001b[39mPyJulia does not support Julia < 0.7 anymore\u001b[39m\u001b[39m\"\u001b[39m)\n",
      "File \u001b[0;32m~/.conda/envs/qgs/lib/python3.8/site-packages/julia/juliainfo.py:68\u001b[0m, in \u001b[0;36mJuliaInfo.load\u001b[0;34m(cls, julia, **popen_kwargs)\u001b[0m\n\u001b[1;32m     61\u001b[0m \u001b[39m\"\"\"\u001b[39;00m\n\u001b[1;32m     62\u001b[0m \u001b[39mGet basic information from `julia`.\u001b[39;00m\n\u001b[1;32m     63\u001b[0m \u001b[39m\"\"\"\u001b[39;00m\n\u001b[1;32m     65\u001b[0m juliainfo_script \u001b[39m=\u001b[39m os\u001b[39m.\u001b[39mpath\u001b[39m.\u001b[39mjoin(\n\u001b[1;32m     66\u001b[0m     os\u001b[39m.\u001b[39mpath\u001b[39m.\u001b[39mdirname(os\u001b[39m.\u001b[39mpath\u001b[39m.\u001b[39mrealpath(\u001b[39m__file__\u001b[39m)), \u001b[39m\"\u001b[39m\u001b[39mjuliainfo.jl\u001b[39m\u001b[39m\"\u001b[39m\n\u001b[1;32m     67\u001b[0m )\n\u001b[0;32m---> 68\u001b[0m proc \u001b[39m=\u001b[39m subprocess\u001b[39m.\u001b[39;49mPopen(\n\u001b[1;32m     69\u001b[0m     [julia, \u001b[39m\"\u001b[39;49m\u001b[39m--startup-file=no\u001b[39;49m\u001b[39m\"\u001b[39;49m, juliainfo_script],\n\u001b[1;32m     70\u001b[0m     stdout\u001b[39m=\u001b[39;49msubprocess\u001b[39m.\u001b[39;49mPIPE,\n\u001b[1;32m     71\u001b[0m     stderr\u001b[39m=\u001b[39;49msubprocess\u001b[39m.\u001b[39;49mPIPE,\n\u001b[1;32m     72\u001b[0m     universal_newlines\u001b[39m=\u001b[39;49m\u001b[39mTrue\u001b[39;49;00m,\n\u001b[1;32m     73\u001b[0m     \u001b[39m*\u001b[39;49m\u001b[39m*\u001b[39;49mpopen_kwargs\n\u001b[1;32m     74\u001b[0m )\n\u001b[1;32m     76\u001b[0m stdout, stderr \u001b[39m=\u001b[39m proc\u001b[39m.\u001b[39mcommunicate()\n\u001b[1;32m     77\u001b[0m retcode \u001b[39m=\u001b[39m proc\u001b[39m.\u001b[39mwait()\n",
      "File \u001b[0;32m~/.conda/envs/qgs/lib/python3.8/subprocess.py:858\u001b[0m, in \u001b[0;36mPopen.__init__\u001b[0;34m(self, args, bufsize, executable, stdin, stdout, stderr, preexec_fn, close_fds, shell, cwd, env, universal_newlines, startupinfo, creationflags, restore_signals, start_new_session, pass_fds, encoding, errors, text)\u001b[0m\n\u001b[1;32m    854\u001b[0m         \u001b[39mif\u001b[39;00m \u001b[39mself\u001b[39m\u001b[39m.\u001b[39mtext_mode:\n\u001b[1;32m    855\u001b[0m             \u001b[39mself\u001b[39m\u001b[39m.\u001b[39mstderr \u001b[39m=\u001b[39m io\u001b[39m.\u001b[39mTextIOWrapper(\u001b[39mself\u001b[39m\u001b[39m.\u001b[39mstderr,\n\u001b[1;32m    856\u001b[0m                     encoding\u001b[39m=\u001b[39mencoding, errors\u001b[39m=\u001b[39merrors)\n\u001b[0;32m--> 858\u001b[0m     \u001b[39mself\u001b[39;49m\u001b[39m.\u001b[39;49m_execute_child(args, executable, preexec_fn, close_fds,\n\u001b[1;32m    859\u001b[0m                         pass_fds, cwd, env,\n\u001b[1;32m    860\u001b[0m                         startupinfo, creationflags, shell,\n\u001b[1;32m    861\u001b[0m                         p2cread, p2cwrite,\n\u001b[1;32m    862\u001b[0m                         c2pread, c2pwrite,\n\u001b[1;32m    863\u001b[0m                         errread, errwrite,\n\u001b[1;32m    864\u001b[0m                         restore_signals, start_new_session)\n\u001b[1;32m    865\u001b[0m \u001b[39mexcept\u001b[39;00m:\n\u001b[1;32m    866\u001b[0m     \u001b[39m# Cleanup if the child failed starting.\u001b[39;00m\n\u001b[1;32m    867\u001b[0m     \u001b[39mfor\u001b[39;00m f \u001b[39min\u001b[39;00m \u001b[39mfilter\u001b[39m(\u001b[39mNone\u001b[39;00m, (\u001b[39mself\u001b[39m\u001b[39m.\u001b[39mstdin, \u001b[39mself\u001b[39m\u001b[39m.\u001b[39mstdout, \u001b[39mself\u001b[39m\u001b[39m.\u001b[39mstderr)):\n",
      "File \u001b[0;32m~/.conda/envs/qgs/lib/python3.8/subprocess.py:1704\u001b[0m, in \u001b[0;36mPopen._execute_child\u001b[0;34m(self, args, executable, preexec_fn, close_fds, pass_fds, cwd, env, startupinfo, creationflags, shell, p2cread, p2cwrite, c2pread, c2pwrite, errread, errwrite, restore_signals, start_new_session)\u001b[0m\n\u001b[1;32m   1702\u001b[0m     \u001b[39mif\u001b[39;00m errno_num \u001b[39m!=\u001b[39m \u001b[39m0\u001b[39m:\n\u001b[1;32m   1703\u001b[0m         err_msg \u001b[39m=\u001b[39m os\u001b[39m.\u001b[39mstrerror(errno_num)\n\u001b[0;32m-> 1704\u001b[0m     \u001b[39mraise\u001b[39;00m child_exception_type(errno_num, err_msg, err_filename)\n\u001b[1;32m   1705\u001b[0m \u001b[39mraise\u001b[39;00m child_exception_type(err_msg)\n",
      "\u001b[0;31mFileNotFoundError\u001b[0m: [Errno 2] No such file or directory: 'julia'"
     ]
    }
   ],
   "source": [
    "from julia.api import Julia\n",
    "jl = Julia(compiled_modules=False)\n",
    "from diffeqpy import de"
   ]
  },
  {
   "cell_type": "markdown",
   "metadata": {},
   "source": [
    "Importing also Numba"
   ]
  },
  {
   "cell_type": "code",
   "execution_count": 7,
   "metadata": {},
   "outputs": [],
   "source": [
    "from numba import jit"
   ]
  },
  {
   "cell_type": "markdown",
   "metadata": {},
   "source": [
    "Ignoring Numba performance warnings. -- Comment to disable if you want to see them."
   ]
  },
  {
   "cell_type": "code",
   "execution_count": 8,
   "metadata": {},
   "outputs": [],
   "source": [
    "import warnings\n",
    "warnings.filterwarnings(\"ignore\")"
   ]
  },
  {
   "cell_type": "markdown",
   "metadata": {},
   "source": [
    "## Systems definition"
   ]
  },
  {
   "cell_type": "markdown",
   "metadata": {},
   "source": [
    "General parameters"
   ]
  },
  {
   "cell_type": "code",
   "execution_count": 9,
   "metadata": {},
   "outputs": [],
   "source": [
    "# Time parameters\n",
    "dt = 0.1\n",
    "# Saving the model state n steps\n",
    "write_steps = 5\n",
    "\n",
    "number_of_trajectories = 1\n",
    "number_of_perturbed_trajectories = 10"
   ]
  },
  {
   "cell_type": "markdown",
   "metadata": {},
   "source": [
    "Setting some model parameters"
   ]
  },
  {
   "cell_type": "code",
   "execution_count": 10,
   "metadata": {},
   "outputs": [],
   "source": [
    "# Model parameters instantiation with some non-default specs\n",
    "model_parameters = QgParams({'phi0_npi': np.deg2rad(50.)/np.pi, 'hd':0.3})\n",
    "# Mode truncation at the wavenumber 2 in both x and y spatial coordinate\n",
    "model_parameters.set_atmospheric_channel_fourier_modes(2, 2)\n",
    "\n",
    "# Changing (increasing) the orography depth and the meridional temperature gradient\n",
    "model_parameters.ground_params.set_orography(0.4, 1)\n",
    "model_parameters.atemperature_params.set_thetas(0.2, 0)"
   ]
  },
  {
   "cell_type": "code",
   "execution_count": 11,
   "metadata": {},
   "outputs": [
    {
     "name": "stdout",
     "output_type": "stream",
     "text": [
      "Qgs v0.2.5 parameters summary\n",
      "=============================\n",
      "\n",
      "General Parameters:\n",
      "'time_unit': days,\n",
      "'rr': 287.058  [J][kg^-1][K^-1]  (gas constant of dry air),\n",
      "'sb': 5.67e-08  [J][m^-2][s^-1][K^-4]  (Stefan-Boltzmann constant),\n",
      "\n",
      "Scale Parameters:\n",
      "'scale': 5000000.0  [m]  (characteristic space scale (L*pi)),\n",
      "'f0': 0.0001032  [s^-1]  (Coriolis parameter at the middle of the domain),\n",
      "'n': 1.3    (aspect ratio (n = 2 L_y / L_x)),\n",
      "'rra': 6370000.0  [m]  (earth radius),\n",
      "'phi0_npi': 0.2777777777777778    (latitude expressed in fraction of pi),\n",
      "'deltap': 50000.0  [Pa]  (pressure difference between the two atmospheric layers),\n",
      "\n",
      "Atmospheric Parameters:\n",
      "'kd': 0.1  [nondim]  (atmosphere bottom friction coefficient),\n",
      "'kdp': 0.01  [nondim]  (atmosphere internal friction coefficient),\n",
      "'sigma': 0.2  [nondim]  (static stability of the atmosphere),\n",
      "\n",
      "Atmospheric Temperature Parameters:\n",
      "'hd': 0.3  [nondim]  (Newtonian cooling coefficient),\n",
      "'thetas[1]': 0.2    (spectral components 1 of the temperature profile),\n",
      "'thetas[2]': 0.0    (spectral component 2 of the temperature profile),\n",
      "'thetas[3]': 0.0    (spectral component 3 of the temperature profile),\n",
      "'thetas[4]': 0.0    (spectral component 4 of the temperature profile),\n",
      "'thetas[5]': 0.0    (spectral component 5 of the temperature profile),\n",
      "'thetas[6]': 0.0    (spectral component 6 of the temperature profile),\n",
      "'thetas[7]': 0.0    (spectral component 7 of the temperature profile),\n",
      "'thetas[8]': 0.0    (spectral component 8 of the temperature profile),\n",
      "'thetas[9]': 0.0    (spectral component 9 of the temperature profile),\n",
      "'thetas[10]': 0.0    (spectral component 10 of the temperature profile),\n",
      "\n",
      "Ground Parameters:\n",
      "'hk[1]': 0.0    (spectral component 1 of the orography),\n",
      "'hk[2]': 0.4    (spectral components 2 of the orography),\n",
      "'hk[3]': 0.0    (spectral component 3 of the orography),\n",
      "'hk[4]': 0.0    (spectral component 4 of the orography),\n",
      "'hk[5]': 0.0    (spectral component 5 of the orography),\n",
      "'hk[6]': 0.0    (spectral component 6 of the orography),\n",
      "'hk[7]': 0.0    (spectral component 7 of the orography),\n",
      "'hk[8]': 0.0    (spectral component 8 of the orography),\n",
      "'hk[9]': 0.0    (spectral component 9 of the orography),\n",
      "'hk[10]': 0.0    (spectral component 10 of the orography),\n",
      "'orographic_basis': atmospheric,\n",
      "\n",
      "\n"
     ]
    }
   ],
   "source": [
    "# Printing the model's parameters\n",
    "model_parameters.print_params()"
   ]
  },
  {
   "cell_type": "markdown",
   "metadata": {},
   "source": [
    "Creating the tendencies function"
   ]
  },
  {
   "cell_type": "code",
   "execution_count": 12,
   "metadata": {},
   "outputs": [
    {
     "name": "stdout",
     "output_type": "stream",
     "text": [
      "CPU times: user 11 s, sys: 1.54 s, total: 12.6 s\n",
      "Wall time: 11.9 s\n"
     ]
    }
   ],
   "source": [
    "%%time\n",
    "f, Df = create_tendencies(model_parameters)"
   ]
  },
  {
   "cell_type": "markdown",
   "metadata": {},
   "source": [
    "## Time integration"
   ]
  },
  {
   "cell_type": "markdown",
   "metadata": {},
   "source": [
    "Defining an integrator"
   ]
  },
  {
   "cell_type": "code",
   "execution_count": 13,
   "metadata": {},
   "outputs": [],
   "source": [
    "integrator = RungeKuttaIntegrator()\n",
    "integrator.set_func(f)"
   ]
  },
  {
   "cell_type": "markdown",
   "metadata": {},
   "source": [
    "Start on a random initial condition and integrate over a transient time to obtain an initial condition on the attractors"
   ]
  },
  {
   "cell_type": "code",
   "execution_count": 14,
   "metadata": {},
   "outputs": [
    {
     "name": "stdout",
     "output_type": "stream",
     "text": [
      "CPU times: user 25.2 ms, sys: 52.4 ms, total: 77.6 ms\n",
      "Wall time: 18.4 s\n"
     ]
    }
   ],
   "source": [
    "%%time\n",
    "ic = np.random.rand(model_parameters.ndim)*0.1\n",
    "integrator.integrate(0., 200000., dt, ic=ic, write_steps=0)\n",
    "time, ic = integrator.get_trajectories()"
   ]
  },
  {
   "cell_type": "markdown",
   "metadata": {},
   "source": [
    "Now integrate to obtain with the qgs RK4 integrator"
   ]
  },
  {
   "cell_type": "code",
   "execution_count": 15,
   "metadata": {},
   "outputs": [
    {
     "name": "stdout",
     "output_type": "stream",
     "text": [
      "CPU times: user 2 ms, sys: 4 ms, total: 6 ms\n",
      "Wall time: 3.56 s\n"
     ]
    }
   ],
   "source": [
    "%%time\n",
    "integrator.integrate(0., 200., dt, ic=ic, write_steps=write_steps)\n",
    "time, traj = integrator.get_trajectories()"
   ]
  },
  {
   "cell_type": "markdown",
   "metadata": {},
   "source": [
    "And also with the DifferentialEquations ODE Solver"
   ]
  },
  {
   "cell_type": "code",
   "execution_count": null,
   "metadata": {},
   "outputs": [],
   "source": [
    "# defining a function with the correct header\n",
    "\n",
    "@jit\n",
    "def f_jl(x,p,t):\n",
    "    u = f(t,x)\n",
    "    return u"
   ]
  },
  {
   "cell_type": "code",
   "execution_count": null,
   "metadata": {},
   "outputs": [],
   "source": [
    "%%time\n",
    "# Defining the problem and integrating\n",
    "prob = de.ODEProblem(f_jl, ic, (0., 200.))\n",
    "sol = de.solve(prob, saveat=write_steps * dt)"
   ]
  },
  {
   "cell_type": "markdown",
   "metadata": {},
   "source": [
    "Plotting the result"
   ]
  },
  {
   "cell_type": "code",
   "execution_count": 16,
   "metadata": {},
   "outputs": [
    {
     "data": {
      "image/png": "[encoded data removed]",
      "text/plain": [
       "<Figure size 1000x800 with 1 Axes>"
      ]
     },
     "metadata": {},
     "output_type": "display_data"
    }
   ],
   "source": [
    "var = 10\n",
    "#jtraj = np.array(sol.u).T\n",
    "plt.figure(figsize=(10, 8))\n",
    "\n",
    "plt.plot(model_parameters.dimensional_time*time, traj[var], label=\"Qgs RK4 integrator\")\n",
    "#plt.plot(model_parameters.dimensional_time*time, jtraj[var], label=\"DiffEqPy default integrator\")\n",
    "\n",
    "plt.legend()\n",
    "plt.xlabel('time (days)')\n",
    "plt.ylabel('$'+model_parameters.latex_var_string[var]+'$');"
   ]
  },
  {
   "cell_type": "code",
   "execution_count": null,
   "metadata": {},
   "outputs": [],
   "source": []
  }
 ],
 "metadata": {
  "kernelspec": {
   "display_name": "Python 3.8.13 64-bit ('qgs')",
   "language": "python",
   "name": "python3"
  },
  "language_info": {
   "codemirror_mode": {
    "name": "ipython",
    "version": 3
   },
   "file_extension": ".py",
   "mimetype": "text/x-python",
   "name": "python",
   "nbconvert_exporter": "python",
   "pygments_lexer": "ipython3",
   "version": "3.8.13"
  },
  "vscode": {
   "interpreter": {
    "hash": "09906abf1f8197423b536c9209ebd7f92d52ca3243e57150003a6661963cf0c8"
   }
  }
 },
 "nbformat": 4,
 "nbformat_minor": 2
}
